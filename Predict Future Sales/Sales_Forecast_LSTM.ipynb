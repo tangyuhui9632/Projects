{
  "nbformat": 4,
  "nbformat_minor": 0,
  "metadata": {
    "kernelspec": {
      "display_name": "Python 3",
      "language": "python",
      "name": "python3"
    },
    "language_info": {
      "name": "python",
      "version": "3.6.4",
      "mimetype": "text/x-python",
      "codemirror_mode": {
        "name": "ipython",
        "version": 3
      },
      "pygments_lexer": "ipython3",
      "nbconvert_exporter": "python",
      "file_extension": ".py"
    },
    "colab": {
      "name": "Sales Forecast_LSTM.ipynb",
      "provenance": []
    }
  },
  "cells": [
    {
      "cell_type": "markdown",
      "metadata": {
        "id": "sTHDcwVPMUR5",
        "colab_type": "text"
      },
      "source": [
        "# Sales Forecast with Deep Learning (LSTM)"
      ]
    },
    {
      "cell_type": "code",
      "metadata": {
        "id": "if-trNBQaB17",
        "colab_type": "code",
        "colab": {
          "resources": {
            "http://localhost:8080/nbextensions/google.colab/files.js": {
              "data": "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",
              "ok": true,
              "headers": [
                [
                  "content-type",
                  "application/javascript"
                ]
              ],
              "status": 200,
              "status_text": ""
            }
          },
          "base_uri": "https://localhost:8080/",
          "height": 77
        },
        "outputId": "0d7891eb-48e4-4f5d-bcd8-ae5671068429"
      },
      "source": [
        "from google.colab import files\n",
        "uploaded = files.upload()"
      ],
      "execution_count": 7,
      "outputs": [
        {
          "output_type": "display_data",
          "data": {
            "text/html": [
              "\n",
              "     <input type=\"file\" id=\"files-81bfa23c-13a6-41c6-a679-d25efeac13b0\" name=\"files[]\" multiple disabled />\n",
              "     <output id=\"result-81bfa23c-13a6-41c6-a679-d25efeac13b0\">\n",
              "      Upload widget is only available when the cell has been executed in the\n",
              "      current browser session. Please rerun this cell to enable.\n",
              "      </output>\n",
              "      <script src=\"/nbextensions/google.colab/files.js\"></script> "
            ],
            "text/plain": [
              "<IPython.core.display.HTML object>"
            ]
          },
          "metadata": {
            "tags": []
          }
        },
        {
          "output_type": "stream",
          "text": [
            "Saving items.csv to items.csv\n"
          ],
          "name": "stdout"
        }
      ]
    },
    {
      "cell_type": "code",
      "metadata": {
        "_uuid": "8f2839f25d086af736a60e9eeb907d3b93b6e0e5",
        "_cell_guid": "b1076dfc-b9ad-4769-8c92-a6c4dae69d19",
        "trusted": true,
        "id": "uUXrLZlvSSJi",
        "colab_type": "code",
        "colab": {}
      },
      "source": [
        "# import packages\n",
        "\n",
        "import numpy as np \n",
        "import pandas as pd \n",
        "\n",
        "from matplotlib import pylab as plt\n",
        "import matplotlib.dates as mdates\n",
        "import seaborn as sns\n",
        "\n",
        "from sklearn.metrics import mean_squared_error\n",
        "from numpy import sqrt\n",
        "\n",
        "from sklearn.preprocessing import StandardScaler,MinMaxScaler\n",
        "\n",
        "from keras.models import Sequential\n",
        "from keras.layers import Dense\n",
        "from keras.layers import LSTM"
      ],
      "execution_count": 0,
      "outputs": []
    },
    {
      "cell_type": "code",
      "metadata": {
        "_uuid": "28d1192aa1570f6504b90bf097f612a54deeed87",
        "_cell_guid": "010d7ba6-19f5-4d41-983f-7637b04cbedc",
        "scrolled": true,
        "trusted": true,
        "id": "eTZ3S3onSSKf",
        "colab_type": "code",
        "colab": {
          "base_uri": "https://localhost:8080/",
          "height": 204
        },
        "outputId": "ad240b15-814e-4972-8c72-d7c88014d3bc"
      },
      "source": [
        "train = pd.read_csv('sales_train_v2.csv')\n",
        "train.head()"
      ],
      "execution_count": 29,
      "outputs": [
        {
          "output_type": "execute_result",
          "data": {
            "text/html": [
              "<div>\n",
              "<style scoped>\n",
              "    .dataframe tbody tr th:only-of-type {\n",
              "        vertical-align: middle;\n",
              "    }\n",
              "\n",
              "    .dataframe tbody tr th {\n",
              "        vertical-align: top;\n",
              "    }\n",
              "\n",
              "    .dataframe thead th {\n",
              "        text-align: right;\n",
              "    }\n",
              "</style>\n",
              "<table border=\"1\" class=\"dataframe\">\n",
              "  <thead>\n",
              "    <tr style=\"text-align: right;\">\n",
              "      <th></th>\n",
              "      <th>date</th>\n",
              "      <th>date_block_num</th>\n",
              "      <th>shop_id</th>\n",
              "      <th>item_id</th>\n",
              "      <th>item_price</th>\n",
              "      <th>item_cnt_day</th>\n",
              "    </tr>\n",
              "  </thead>\n",
              "  <tbody>\n",
              "    <tr>\n",
              "      <th>0</th>\n",
              "      <td>02.01.2013</td>\n",
              "      <td>0</td>\n",
              "      <td>59</td>\n",
              "      <td>22154</td>\n",
              "      <td>999.00</td>\n",
              "      <td>1.0</td>\n",
              "    </tr>\n",
              "    <tr>\n",
              "      <th>1</th>\n",
              "      <td>03.01.2013</td>\n",
              "      <td>0</td>\n",
              "      <td>25</td>\n",
              "      <td>2552</td>\n",
              "      <td>899.00</td>\n",
              "      <td>1.0</td>\n",
              "    </tr>\n",
              "    <tr>\n",
              "      <th>2</th>\n",
              "      <td>05.01.2013</td>\n",
              "      <td>0</td>\n",
              "      <td>25</td>\n",
              "      <td>2552</td>\n",
              "      <td>899.00</td>\n",
              "      <td>-1.0</td>\n",
              "    </tr>\n",
              "    <tr>\n",
              "      <th>3</th>\n",
              "      <td>06.01.2013</td>\n",
              "      <td>0</td>\n",
              "      <td>25</td>\n",
              "      <td>2554</td>\n",
              "      <td>1709.05</td>\n",
              "      <td>1.0</td>\n",
              "    </tr>\n",
              "    <tr>\n",
              "      <th>4</th>\n",
              "      <td>15.01.2013</td>\n",
              "      <td>0</td>\n",
              "      <td>25</td>\n",
              "      <td>2555</td>\n",
              "      <td>1099.00</td>\n",
              "      <td>1.0</td>\n",
              "    </tr>\n",
              "  </tbody>\n",
              "</table>\n",
              "</div>"
            ],
            "text/plain": [
              "         date  date_block_num  shop_id  item_id  item_price  item_cnt_day\n",
              "0  02.01.2013               0       59    22154      999.00           1.0\n",
              "1  03.01.2013               0       25     2552      899.00           1.0\n",
              "2  05.01.2013               0       25     2552      899.00          -1.0\n",
              "3  06.01.2013               0       25     2554     1709.05           1.0\n",
              "4  15.01.2013               0       25     2555     1099.00           1.0"
            ]
          },
          "metadata": {
            "tags": []
          },
          "execution_count": 29
        }
      ]
    },
    {
      "cell_type": "code",
      "metadata": {
        "_uuid": "6d212321fb43a62f862f1abaa028866a5af1351e",
        "_cell_guid": "7189a2e1-29c2-47d6-85ae-4df550e13220",
        "trusted": true,
        "id": "M27Pv_pZSSLh",
        "colab_type": "code",
        "colab": {
          "base_uri": "https://localhost:8080/",
          "height": 204
        },
        "outputId": "8a3dd222-d22b-43ca-ea78-bf84b9c41fbb"
      },
      "source": [
        "train_clean = train.drop(labels = ['date', 'item_price'], axis = 1)"
      ],
      "execution_count": 31,
      "outputs": [
        {
          "output_type": "execute_result",
          "data": {
            "text/html": [
              "<div>\n",
              "<style scoped>\n",
              "    .dataframe tbody tr th:only-of-type {\n",
              "        vertical-align: middle;\n",
              "    }\n",
              "\n",
              "    .dataframe tbody tr th {\n",
              "        vertical-align: top;\n",
              "    }\n",
              "\n",
              "    .dataframe thead th {\n",
              "        text-align: right;\n",
              "    }\n",
              "</style>\n",
              "<table border=\"1\" class=\"dataframe\">\n",
              "  <thead>\n",
              "    <tr style=\"text-align: right;\">\n",
              "      <th></th>\n",
              "      <th>date_block_num</th>\n",
              "      <th>shop_id</th>\n",
              "      <th>item_id</th>\n",
              "      <th>item_cnt_day</th>\n",
              "    </tr>\n",
              "  </thead>\n",
              "  <tbody>\n",
              "    <tr>\n",
              "      <th>0</th>\n",
              "      <td>0</td>\n",
              "      <td>59</td>\n",
              "      <td>22154</td>\n",
              "      <td>1.0</td>\n",
              "    </tr>\n",
              "    <tr>\n",
              "      <th>1</th>\n",
              "      <td>0</td>\n",
              "      <td>25</td>\n",
              "      <td>2552</td>\n",
              "      <td>1.0</td>\n",
              "    </tr>\n",
              "    <tr>\n",
              "      <th>2</th>\n",
              "      <td>0</td>\n",
              "      <td>25</td>\n",
              "      <td>2552</td>\n",
              "      <td>-1.0</td>\n",
              "    </tr>\n",
              "    <tr>\n",
              "      <th>3</th>\n",
              "      <td>0</td>\n",
              "      <td>25</td>\n",
              "      <td>2554</td>\n",
              "      <td>1.0</td>\n",
              "    </tr>\n",
              "    <tr>\n",
              "      <th>4</th>\n",
              "      <td>0</td>\n",
              "      <td>25</td>\n",
              "      <td>2555</td>\n",
              "      <td>1.0</td>\n",
              "    </tr>\n",
              "  </tbody>\n",
              "</table>\n",
              "</div>"
            ],
            "text/plain": [
              "   date_block_num  shop_id  item_id  item_cnt_day\n",
              "0               0       59    22154           1.0\n",
              "1               0       25     2552           1.0\n",
              "2               0       25     2552          -1.0\n",
              "3               0       25     2554           1.0\n",
              "4               0       25     2555           1.0"
            ]
          },
          "metadata": {
            "tags": []
          },
          "execution_count": 31
        }
      ]
    },
    {
      "cell_type": "code",
      "metadata": {
        "_uuid": "3c44fd0bbb2e406cc3faf10ecdba8ee48aa266ed",
        "_cell_guid": "dd57ff1a-439e-48b9-bf4d-fed66a491890",
        "scrolled": false,
        "trusted": true,
        "id": "_PMdqqO4SSLq",
        "colab_type": "code",
        "colab": {
          "base_uri": "https://localhost:8080/",
          "height": 204
        },
        "outputId": "66b6c549-0bfc-4984-f601-21cdd2690e56"
      },
      "source": [
        "# change the item count per day to item count per month by using group\n",
        "train_clean = train_clean.groupby([\"item_id\",\"shop_id\",\"date_block_num\"]).sum().reset_index()\n",
        "train_clean = train_clean.rename(index=str, columns = {\"item_cnt_day\":\"item_cnt_month\"})\n",
        "train_clean = train_clean[[\"item_id\",\"shop_id\",\"date_block_num\",\"item_cnt_month\"]]\n",
        "train_clean.head()"
      ],
      "execution_count": 32,
      "outputs": [
        {
          "output_type": "execute_result",
          "data": {
            "text/html": [
              "<div>\n",
              "<style scoped>\n",
              "    .dataframe tbody tr th:only-of-type {\n",
              "        vertical-align: middle;\n",
              "    }\n",
              "\n",
              "    .dataframe tbody tr th {\n",
              "        vertical-align: top;\n",
              "    }\n",
              "\n",
              "    .dataframe thead th {\n",
              "        text-align: right;\n",
              "    }\n",
              "</style>\n",
              "<table border=\"1\" class=\"dataframe\">\n",
              "  <thead>\n",
              "    <tr style=\"text-align: right;\">\n",
              "      <th></th>\n",
              "      <th>item_id</th>\n",
              "      <th>shop_id</th>\n",
              "      <th>date_block_num</th>\n",
              "      <th>item_cnt_month</th>\n",
              "    </tr>\n",
              "  </thead>\n",
              "  <tbody>\n",
              "    <tr>\n",
              "      <th>0</th>\n",
              "      <td>0</td>\n",
              "      <td>54</td>\n",
              "      <td>20</td>\n",
              "      <td>1.0</td>\n",
              "    </tr>\n",
              "    <tr>\n",
              "      <th>1</th>\n",
              "      <td>1</td>\n",
              "      <td>55</td>\n",
              "      <td>15</td>\n",
              "      <td>2.0</td>\n",
              "    </tr>\n",
              "    <tr>\n",
              "      <th>2</th>\n",
              "      <td>1</td>\n",
              "      <td>55</td>\n",
              "      <td>18</td>\n",
              "      <td>1.0</td>\n",
              "    </tr>\n",
              "    <tr>\n",
              "      <th>3</th>\n",
              "      <td>1</td>\n",
              "      <td>55</td>\n",
              "      <td>19</td>\n",
              "      <td>1.0</td>\n",
              "    </tr>\n",
              "    <tr>\n",
              "      <th>4</th>\n",
              "      <td>1</td>\n",
              "      <td>55</td>\n",
              "      <td>20</td>\n",
              "      <td>1.0</td>\n",
              "    </tr>\n",
              "  </tbody>\n",
              "</table>\n",
              "</div>"
            ],
            "text/plain": [
              "   item_id  shop_id  date_block_num  item_cnt_month\n",
              "0        0       54              20             1.0\n",
              "1        1       55              15             2.0\n",
              "2        1       55              18             1.0\n",
              "3        1       55              19             1.0\n",
              "4        1       55              20             1.0"
            ]
          },
          "metadata": {
            "tags": []
          },
          "execution_count": 32
        }
      ]
    },
    {
      "cell_type": "markdown",
      "metadata": {
        "id": "NVyPT0MlM-6j",
        "colab_type": "text"
      },
      "source": [
        "To save time for forecasting, we select a shop_id and item_id to make prediction"
      ]
    },
    {
      "cell_type": "code",
      "metadata": {
        "id": "Jv6xJAlFDcUC",
        "colab_type": "code",
        "colab": {
          "base_uri": "https://localhost:8080/",
          "height": 297
        },
        "outputId": "9172f09c-e2f1-4c99-f20a-c27dbbf40ea7"
      },
      "source": [
        "# shop_id =2, item_id = 5037\n",
        "\n",
        "sample = train_clean[[\"shop_id\",\"item_id\",\"date_block_num\",\"item_cnt_month\"]]\n",
        "sample = sample.loc[sample['shop_id'] == 2]\n",
        "sample = sample.loc[sample['item_id'] == 5037]\n",
        "sample"
      ],
      "execution_count": 107,
      "outputs": [
        {
          "output_type": "execute_result",
          "data": {
            "text/html": [
              "<div>\n",
              "<style scoped>\n",
              "    .dataframe tbody tr th:only-of-type {\n",
              "        vertical-align: middle;\n",
              "    }\n",
              "\n",
              "    .dataframe tbody tr th {\n",
              "        vertical-align: top;\n",
              "    }\n",
              "\n",
              "    .dataframe thead th {\n",
              "        text-align: right;\n",
              "    }\n",
              "</style>\n",
              "<table border=\"1\" class=\"dataframe\">\n",
              "  <thead>\n",
              "    <tr style=\"text-align: right;\">\n",
              "      <th></th>\n",
              "      <th>shop_id</th>\n",
              "      <th>item_id</th>\n",
              "      <th>date_block_num</th>\n",
              "      <th>item_cnt_month</th>\n",
              "    </tr>\n",
              "  </thead>\n",
              "  <tbody>\n",
              "    <tr>\n",
              "      <th>400420</th>\n",
              "      <td>2</td>\n",
              "      <td>5037</td>\n",
              "      <td>21</td>\n",
              "      <td>1.0</td>\n",
              "    </tr>\n",
              "    <tr>\n",
              "      <th>400421</th>\n",
              "      <td>2</td>\n",
              "      <td>5037</td>\n",
              "      <td>23</td>\n",
              "      <td>4.0</td>\n",
              "    </tr>\n",
              "    <tr>\n",
              "      <th>400422</th>\n",
              "      <td>2</td>\n",
              "      <td>5037</td>\n",
              "      <td>24</td>\n",
              "      <td>2.0</td>\n",
              "    </tr>\n",
              "    <tr>\n",
              "      <th>400423</th>\n",
              "      <td>2</td>\n",
              "      <td>5037</td>\n",
              "      <td>25</td>\n",
              "      <td>1.0</td>\n",
              "    </tr>\n",
              "    <tr>\n",
              "      <th>400424</th>\n",
              "      <td>2</td>\n",
              "      <td>5037</td>\n",
              "      <td>26</td>\n",
              "      <td>1.0</td>\n",
              "    </tr>\n",
              "    <tr>\n",
              "      <th>400425</th>\n",
              "      <td>2</td>\n",
              "      <td>5037</td>\n",
              "      <td>30</td>\n",
              "      <td>2.0</td>\n",
              "    </tr>\n",
              "    <tr>\n",
              "      <th>400426</th>\n",
              "      <td>2</td>\n",
              "      <td>5037</td>\n",
              "      <td>31</td>\n",
              "      <td>1.0</td>\n",
              "    </tr>\n",
              "    <tr>\n",
              "      <th>400427</th>\n",
              "      <td>2</td>\n",
              "      <td>5037</td>\n",
              "      <td>32</td>\n",
              "      <td>1.0</td>\n",
              "    </tr>\n",
              "  </tbody>\n",
              "</table>\n",
              "</div>"
            ],
            "text/plain": [
              "        shop_id  item_id  date_block_num  item_cnt_month\n",
              "400420        2     5037              21             1.0\n",
              "400421        2     5037              23             4.0\n",
              "400422        2     5037              24             2.0\n",
              "400423        2     5037              25             1.0\n",
              "400424        2     5037              26             1.0\n",
              "400425        2     5037              30             2.0\n",
              "400426        2     5037              31             1.0\n",
              "400427        2     5037              32             1.0"
            ]
          },
          "metadata": {
            "tags": []
          },
          "execution_count": 107
        }
      ]
    },
    {
      "cell_type": "code",
      "metadata": {
        "id": "10hN2FlcEF1L",
        "colab_type": "code",
        "colab": {
          "base_uri": "https://localhost:8080/",
          "height": 295
        },
        "outputId": "983a2740-50cc-43ce-cd9d-4c7280c5e979"
      },
      "source": [
        "plt.figure(figsize=(10,4))\n",
        "plt.title('Check - Sales of Item 5037 at Shop 2')\n",
        "plt.xlabel('Month')\n",
        "plt.ylabel('Sales of Item 5037 at Shop 2')\n",
        "plt.plot(sample[\"date_block_num\"],sample[\"item_cnt_month\"]);\n"
      ],
      "execution_count": 108,
      "outputs": [
        {
          "output_type": "display_data",
          "data": {
            "image/png": "[encoded data removed]",
            "text/plain": [
              "<Figure size 720x288 with 1 Axes>"
            ]
          },
          "metadata": {
            "tags": []
          }
        }
      ]
    },
    {
      "cell_type": "code",
      "metadata": {
        "id": "r0diyX3BARIs",
        "colab_type": "code",
        "colab": {
          "base_uri": "https://localhost:8080/",
          "height": 71
        },
        "outputId": "b09e6dd3-1c19-47fe-9ffa-585569f50237"
      },
      "source": [
        "print( len(train_clean['shop_id'].unique()) )\n",
        "print( len(train_clean['item_id'].unique()) )\n",
        "print( len(train_clean['date_block_num'].unique()) )"
      ],
      "execution_count": 75,
      "outputs": [
        {
          "output_type": "stream",
          "text": [
            "60\n",
            "21807\n",
            "34\n"
          ],
          "name": "stdout"
        }
      ]
    },
    {
      "cell_type": "code",
      "metadata": {
        "_uuid": "c3a0620bdff61b55f9c45b39f25be7f83f859406",
        "_cell_guid": "9166c570-03bb-4dcf-a947-24db15f40c2b",
        "trusted": true,
        "id": "gojR3dnmSSNP",
        "colab_type": "code",
        "colab": {}
      },
      "source": [
        "# make a df according to the pre-selected shop_id and item_id\n",
        "\n",
        "month_list=[i for i in range(num_month+ 1)]\n",
        "shop = []\n",
        "for i in range(num_month+1):\n",
        "    shop.append(2)\n",
        "item = []\n",
        "for i in range(num_month+1):\n",
        "    item.append(5037)\n",
        "months_full = pd.DataFrame({'shop_id':shop, 'item_id':item,'date_block_num':month_list})"
      ],
      "execution_count": 0,
      "outputs": []
    },
    {
      "cell_type": "code",
      "metadata": {
        "_uuid": "3ea5f7ffd2774aecaa44a1d53a75ae764a36a506",
        "_cell_guid": "8d7eb82e-fdd6-4bb5-bb9d-41969edc5c00",
        "trusted": true,
        "id": "xi2efeVaSSNW",
        "colab_type": "code",
        "colab": {}
      },
      "source": [
        "# complete dataset for the selected dataset\n",
        "\n",
        "num_month = train['date_block_num'].max()\n",
        "\n",
        "sales_33month = pd.merge(sample, months_full, how='right', on=['shop_id','item_id','date_block_num'])\n",
        "sales_33month = sales_33month.sort_values(by=['date_block_num'])\n",
        "sales_33month.fillna(0.00,inplace=True)\n",
        "sales_33month"
      ],
      "execution_count": 0,
      "outputs": []
    },
    {
      "cell_type": "code",
      "metadata": {
        "_uuid": "fbcd8e1a2bd5641cdc7ba1dffaa8b174e9fc558f",
        "_cell_guid": "8b570ad3-73af-4872-acb6-152a778513a3",
        "scrolled": false,
        "trusted": true,
        "id": "GUYZlBveSSNf",
        "colab_type": "code",
        "colab": {
          "base_uri": "https://localhost:8080/",
          "height": 295
        },
        "outputId": "19fb1a6c-6822-4908-e87f-a3618072149e"
      },
      "source": [
        "plt.figure(figsize=(10,4))\n",
        "plt.title('Check - Sales of Item 5037 at Shop 2 for whole period')\n",
        "plt.xlabel('Month')\n",
        "plt.ylabel('Sales of Item 5037 at Shop 2')\n",
        "plt.plot(sales_33month[\"date_block_num\"],sales_33month[\"item_cnt_month\"]);"
      ],
      "execution_count": 114,
      "outputs": [
        {
          "output_type": "display_data",
          "data": {
            "image/png": "[encoded data removed]",
            "text/plain": [
              "<Figure size 720x288 with 1 Axes>"
            ]
          },
          "metadata": {
            "tags": []
          }
        }
      ]
    },
    {
      "cell_type": "code",
      "metadata": {
        "_uuid": "58bdff825ab506d8ea2bf6e23ba8ab6e7ee4bb66",
        "_cell_guid": "aa76e7d8-bb3a-49c6-ae37-fc6b39503652",
        "scrolled": true,
        "trusted": true,
        "id": "YR-DsmkOSSNv",
        "colab_type": "code",
        "colab": {
          "base_uri": "https://localhost:8080/",
          "height": 204
        },
        "outputId": "d92b3f3c-2c2d-47ab-9661-15d40833f955"
      },
      "source": [
        "for i in range(1,6):\n",
        "    sales_33month[\"T_\" + str(i)] = sales_33month.item_cnt_month.shift(i)\n",
        "sales_33month.fillna(0.0, inplace=True)\n",
        "sales_33month.head()"
      ],
      "execution_count": 115,
      "outputs": [
        {
          "output_type": "execute_result",
          "data": {
            "text/html": [
              "<div>\n",
              "<style scoped>\n",
              "    .dataframe tbody tr th:only-of-type {\n",
              "        vertical-align: middle;\n",
              "    }\n",
              "\n",
              "    .dataframe tbody tr th {\n",
              "        vertical-align: top;\n",
              "    }\n",
              "\n",
              "    .dataframe thead th {\n",
              "        text-align: right;\n",
              "    }\n",
              "</style>\n",
              "<table border=\"1\" class=\"dataframe\">\n",
              "  <thead>\n",
              "    <tr style=\"text-align: right;\">\n",
              "      <th></th>\n",
              "      <th>shop_id</th>\n",
              "      <th>item_id</th>\n",
              "      <th>date_block_num</th>\n",
              "      <th>item_cnt_month</th>\n",
              "      <th>T_1</th>\n",
              "      <th>T_2</th>\n",
              "      <th>T_3</th>\n",
              "      <th>T_4</th>\n",
              "      <th>T_5</th>\n",
              "    </tr>\n",
              "  </thead>\n",
              "  <tbody>\n",
              "    <tr>\n",
              "      <th>8</th>\n",
              "      <td>2</td>\n",
              "      <td>5037</td>\n",
              "      <td>0</td>\n",
              "      <td>0.0</td>\n",
              "      <td>0.0</td>\n",
              "      <td>0.0</td>\n",
              "      <td>0.0</td>\n",
              "      <td>0.0</td>\n",
              "      <td>0.0</td>\n",
              "    </tr>\n",
              "    <tr>\n",
              "      <th>9</th>\n",
              "      <td>2</td>\n",
              "      <td>5037</td>\n",
              "      <td>1</td>\n",
              "      <td>0.0</td>\n",
              "      <td>0.0</td>\n",
              "      <td>0.0</td>\n",
              "      <td>0.0</td>\n",
              "      <td>0.0</td>\n",
              "      <td>0.0</td>\n",
              "    </tr>\n",
              "    <tr>\n",
              "      <th>10</th>\n",
              "      <td>2</td>\n",
              "      <td>5037</td>\n",
              "      <td>2</td>\n",
              "      <td>0.0</td>\n",
              "      <td>0.0</td>\n",
              "      <td>0.0</td>\n",
              "      <td>0.0</td>\n",
              "      <td>0.0</td>\n",
              "      <td>0.0</td>\n",
              "    </tr>\n",
              "    <tr>\n",
              "      <th>11</th>\n",
              "      <td>2</td>\n",
              "      <td>5037</td>\n",
              "      <td>3</td>\n",
              "      <td>0.0</td>\n",
              "      <td>0.0</td>\n",
              "      <td>0.0</td>\n",
              "      <td>0.0</td>\n",
              "      <td>0.0</td>\n",
              "      <td>0.0</td>\n",
              "    </tr>\n",
              "    <tr>\n",
              "      <th>12</th>\n",
              "      <td>2</td>\n",
              "      <td>5037</td>\n",
              "      <td>4</td>\n",
              "      <td>0.0</td>\n",
              "      <td>0.0</td>\n",
              "      <td>0.0</td>\n",
              "      <td>0.0</td>\n",
              "      <td>0.0</td>\n",
              "      <td>0.0</td>\n",
              "    </tr>\n",
              "  </tbody>\n",
              "</table>\n",
              "</div>"
            ],
            "text/plain": [
              "    shop_id  item_id  date_block_num  item_cnt_month  T_1  T_2  T_3  T_4  T_5\n",
              "8         2     5037               0             0.0  0.0  0.0  0.0  0.0  0.0\n",
              "9         2     5037               1             0.0  0.0  0.0  0.0  0.0  0.0\n",
              "10        2     5037               2             0.0  0.0  0.0  0.0  0.0  0.0\n",
              "11        2     5037               3             0.0  0.0  0.0  0.0  0.0  0.0\n",
              "12        2     5037               4             0.0  0.0  0.0  0.0  0.0  0.0"
            ]
          },
          "metadata": {
            "tags": []
          },
          "execution_count": 115
        }
      ]
    },
    {
      "cell_type": "code",
      "metadata": {
        "_uuid": "1c696a22f60ebdb59caff7524944e520e5329ae5",
        "_cell_guid": "3c53ad9a-58b6-4c7d-a38b-e815692d6249",
        "scrolled": false,
        "trusted": true,
        "id": "5-pgBWOjSSN4",
        "colab_type": "code",
        "colab": {}
      },
      "source": [
        "df = sales_33month[['shop_id','item_id','date_block_num','T_1','T_2','T_3','T_4','T_5', 'item_cnt_month']].reset_index()\n",
        "df = df.drop(labels = ['index'], axis = 1)"
      ],
      "execution_count": 0,
      "outputs": []
    },
    {
      "cell_type": "code",
      "metadata": {
        "_uuid": "bf52a2da7256df4cf1168ef885ff24b2dafe9126",
        "_cell_guid": "d66469d8-6670-41af-b647-5d9a56d7cd94",
        "trusted": true,
        "id": "tIQrdt6NSSOH",
        "colab_type": "code",
        "colab": {}
      },
      "source": [
        "# train test split\n",
        "train_df = df[:-3]\n",
        "val_df = df[-3:]\n",
        "x_train,y_train = train_df.drop([\"item_cnt_month\"],axis=1),train_df.item_cnt_month\n",
        "x_val,y_val = val_df.drop([\"item_cnt_month\"],axis=1),val_df.item_cnt_month"
      ],
      "execution_count": 0,
      "outputs": []
    },
    {
      "cell_type": "markdown",
      "metadata": {
        "id": "czGMDFSwOb2k",
        "colab_type": "text"
      },
      "source": [
        "LSTM Modeling"
      ]
    },
    {
      "cell_type": "code",
      "metadata": {
        "_uuid": "f4f3630fbc6c0c503990de984fc0dc6e6d3dca01",
        "_cell_guid": "ae3046b9-bf4d-447d-b1aa-752cca8ff497",
        "trusted": true,
        "id": "6L3zKgcvSSPq",
        "colab_type": "code",
        "colab": {}
      },
      "source": [
        "model_lstm = Sequential()\n",
        "model_lstm.add(LSTM(15, input_shape=(1,8)))\n",
        "model_lstm.add(Dense(1))\n",
        "model_lstm.compile(loss='mean_squared_error', optimizer='adam', metrics=['accuracy'])"
      ],
      "execution_count": 0,
      "outputs": []
    },
    {
      "cell_type": "code",
      "metadata": {
        "_uuid": "b2fa9440e5e332b48b79945677f81327aa3686b9",
        "_cell_guid": "6dc22477-0d27-4e9e-85ff-5c6af53acb95",
        "trusted": true,
        "id": "8wMekAdFSSQA",
        "colab_type": "code",
        "colab": {}
      },
      "source": [
        "# Reshape the data between -1 and 1 and to 3D\n",
        "scaler = StandardScaler()\n",
        "scaler = MinMaxScaler(feature_range=(-1, 1))\n",
        "x_train_scaled = scaler.fit_transform(x_train)\n",
        "x_valid_scaled = scaler.fit_transform(x_val)"
      ],
      "execution_count": 0,
      "outputs": []
    },
    {
      "cell_type": "code",
      "metadata": {
        "_uuid": "28688391a0fff6dbbbf8226ecc97c7006d367bae",
        "_cell_guid": "d19697c5-bb7e-4170-9a99-e00aa4313c0f",
        "trusted": true,
        "id": "GBEKZOjZSSQu",
        "colab_type": "code",
        "colab": {}
      },
      "source": [
        "x_train_reshaped = x_train_scaled.reshape((x_train_scaled.shape[0], 1, x_train_scaled.shape[1]))\n",
        "x_val_resaped = x_valid_scaled.reshape((x_valid_scaled.shape[0], 1, x_valid_scaled.shape[1]))"
      ],
      "execution_count": 0,
      "outputs": []
    },
    {
      "cell_type": "code",
      "metadata": {
        "_uuid": "770ffbffc5060e1a063cfaad09e4bba651abf444",
        "_cell_guid": "6023ea73-2dee-412a-aad1-f7b0f9ee6d1c",
        "scrolled": false,
        "trusted": true,
        "id": "R2OSoZR8SSQ9",
        "colab_type": "code",
        "colab": {
          "base_uri": "https://localhost:8080/",
          "height": 1000
        },
        "outputId": "1d37cc8a-f80b-4dfe-8813-adc1e1b19d14"
      },
      "source": [
        "history = model_lstm.fit(x_train_reshaped, y_train, validation_data=(x_val_resaped, y_val),epochs=30, batch_size=12, verbose=2, shuffle=False)\n",
        "y_pre = model_lstm.predict(x_val_resaped)"
      ],
      "execution_count": 127,
      "outputs": [
        {
          "output_type": "stream",
          "text": [
            "Train on 31 samples, validate on 3 samples\n",
            "Epoch 1/30\n",
            " - 0s - loss: 0.4747 - acc: 0.7742 - val_loss: 0.5605 - val_acc: 0.3333\n",
            "Epoch 2/30\n",
            " - 0s - loss: 0.4738 - acc: 0.7742 - val_loss: 0.5611 - val_acc: 0.3333\n",
            "Epoch 3/30\n",
            " - 0s - loss: 0.4730 - acc: 0.7742 - val_loss: 0.5617 - val_acc: 0.3333\n",
            "Epoch 4/30\n",
            " - 0s - loss: 0.4721 - acc: 0.8065 - val_loss: 0.5623 - val_acc: 0.3333\n",
            "Epoch 5/30\n",
            " - 0s - loss: 0.4713 - acc: 0.8065 - val_loss: 0.5630 - val_acc: 0.3333\n",
            "Epoch 6/30\n",
            " - 0s - loss: 0.4704 - acc: 0.8065 - val_loss: 0.5637 - val_acc: 0.3333\n",
            "Epoch 7/30\n",
            " - 0s - loss: 0.4696 - acc: 0.8065 - val_loss: 0.5644 - val_acc: 0.3333\n",
            "Epoch 8/30\n",
            " - 0s - loss: 0.4688 - acc: 0.8065 - val_loss: 0.5651 - val_acc: 0.3333\n",
            "Epoch 9/30\n",
            " - 0s - loss: 0.4680 - acc: 0.8065 - val_loss: 0.5659 - val_acc: 0.3333\n",
            "Epoch 10/30\n",
            " - 0s - loss: 0.4672 - acc: 0.8065 - val_loss: 0.5667 - val_acc: 0.3333\n",
            "Epoch 11/30\n",
            " - 0s - loss: 0.4664 - acc: 0.8065 - val_loss: 0.5675 - val_acc: 0.3333\n",
            "Epoch 12/30\n",
            " - 0s - loss: 0.4656 - acc: 0.8065 - val_loss: 0.5684 - val_acc: 0.3333\n",
            "Epoch 13/30\n",
            " - 0s - loss: 0.4648 - acc: 0.8065 - val_loss: 0.5693 - val_acc: 0.3333\n",
            "Epoch 14/30\n",
            " - 0s - loss: 0.4641 - acc: 0.8065 - val_loss: 0.5703 - val_acc: 0.3333\n",
            "Epoch 15/30\n",
            " - 0s - loss: 0.4633 - acc: 0.8065 - val_loss: 0.5713 - val_acc: 0.3333\n",
            "Epoch 16/30\n",
            " - 0s - loss: 0.4625 - acc: 0.8065 - val_loss: 0.5723 - val_acc: 0.3333\n",
            "Epoch 17/30\n",
            " - 0s - loss: 0.4618 - acc: 0.8065 - val_loss: 0.5734 - val_acc: 0.3333\n",
            "Epoch 18/30\n",
            " - 0s - loss: 0.4610 - acc: 0.8065 - val_loss: 0.5745 - val_acc: 0.3333\n",
            "Epoch 19/30\n",
            " - 0s - loss: 0.4603 - acc: 0.8065 - val_loss: 0.5757 - val_acc: 0.3333\n",
            "Epoch 20/30\n",
            " - 0s - loss: 0.4595 - acc: 0.8065 - val_loss: 0.5769 - val_acc: 0.3333\n",
            "Epoch 21/30\n",
            " - 0s - loss: 0.4588 - acc: 0.8065 - val_loss: 0.5782 - val_acc: 0.3333\n",
            "Epoch 22/30\n",
            " - 0s - loss: 0.4580 - acc: 0.8065 - val_loss: 0.5795 - val_acc: 0.3333\n",
            "Epoch 23/30\n",
            " - 0s - loss: 0.4573 - acc: 0.8065 - val_loss: 0.5809 - val_acc: 0.3333\n",
            "Epoch 24/30\n",
            " - 0s - loss: 0.4566 - acc: 0.8065 - val_loss: 0.5823 - val_acc: 0.3333\n",
            "Epoch 25/30\n",
            " - 0s - loss: 0.4558 - acc: 0.8065 - val_loss: 0.5838 - val_acc: 0.3333\n",
            "Epoch 26/30\n",
            " - 0s - loss: 0.4551 - acc: 0.8065 - val_loss: 0.5853 - val_acc: 0.3333\n",
            "Epoch 27/30\n",
            " - 0s - loss: 0.4544 - acc: 0.8065 - val_loss: 0.5869 - val_acc: 0.3333\n",
            "Epoch 28/30\n",
            " - 0s - loss: 0.4537 - acc: 0.8065 - val_loss: 0.5885 - val_acc: 0.3333\n",
            "Epoch 29/30\n",
            " - 0s - loss: 0.4530 - acc: 0.8065 - val_loss: 0.5901 - val_acc: 0.3333\n",
            "Epoch 30/30\n",
            " - 0s - loss: 0.4523 - acc: 0.8065 - val_loss: 0.5917 - val_acc: 0.3333\n"
          ],
          "name": "stdout"
        }
      ]
    },
    {
      "cell_type": "code",
      "metadata": {
        "_uuid": "3f20c67732038d351d12e8ad365680fc0fe02711",
        "_cell_guid": "91f22c45-56da-423e-a5fe-ffcf53cd5c8c",
        "trusted": true,
        "id": "QP6juvwTSSRI",
        "colab_type": "code",
        "colab": {
          "base_uri": "https://localhost:8080/",
          "height": 295
        },
        "outputId": "d9e66381-c5fa-42b5-a71d-fb6a26387f55"
      },
      "source": [
        "fig, ax = plt.subplots()\n",
        "ax.plot(x_val['date_block_num'], y_val, label='Actual')\n",
        "ax.plot(x_val['date_block_num'], y_pre, label='Predicted')\n",
        "plt.title('LSTM Prediction vs Actual Sales for last 3 months')\n",
        "plt.xlabel('Month')\n",
        "plt.xticks(x_val['date_block_num'])\n",
        "plt.ylabel('Sales of Item 5037 at Shop 5')\n",
        "ax.legend()\n",
        "plt.show()"
      ],
      "execution_count": 102,
      "outputs": [
        {
          "output_type": "display_data",
          "data": {
            "image/png": "[encoded data removed]",
            "text/plain": [
              "<Figure size 432x288 with 1 Axes>"
            ]
          },
          "metadata": {
            "tags": []
          }
        }
      ]
    },
    {
      "cell_type": "code",
      "metadata": {
        "_uuid": "e74c448ad18ae2e88fe32c94a6fb2c0959f6dcc8",
        "_cell_guid": "01b28070-1a3a-42b4-930a-a00674a099e2",
        "scrolled": true,
        "trusted": true,
        "id": "Tgtd4ligSSRQ",
        "colab_type": "code",
        "colab": {
          "base_uri": "https://localhost:8080/",
          "height": 35
        },
        "outputId": "2351fc68-9db5-4937-da6e-4439d915e851"
      },
      "source": [
        "rmse = sqrt(mean_squared_error(y_val,y_pre))\n",
        "print('RMSE: ', rmse)"
      ],
      "execution_count": 125,
      "outputs": [
        {
          "output_type": "stream",
          "text": [
            "RMSE:  0.7061145372913963\n"
          ],
          "name": "stdout"
        }
      ]
    },
    {
      "cell_type": "code",
      "metadata": {
        "_uuid": "ec784351eb69751205509eb3b137bac7a3b50330",
        "_cell_guid": "13238f51-3845-4403-b9dd-f021e569679f",
        "trusted": false,
        "id": "v30y0NSOSSRZ",
        "colab_type": "code",
        "colab": {}
      },
      "source": [
        ""
      ],
      "execution_count": 0,
      "outputs": []
    }
  ]
}